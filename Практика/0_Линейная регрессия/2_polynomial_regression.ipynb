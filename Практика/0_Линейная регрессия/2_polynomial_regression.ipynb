{
 "cells": [
  {
   "cell_type": "markdown",
   "id": "f2f2ed8e",
   "metadata": {},
   "source": [
    "# Демонстрация работы полиномиальной регрессии\n"
   ]
  },
  {
   "cell_type": "markdown",
   "id": "92d60c32",
   "metadata": {},
   "source": [
    "# План\n",
    "- Генерация данных  \n",
    "- Тестирование обычной линейной регрессии на нелинейных данных  \n",
    "- Тестирование полиномиальной регрессии на нелинейных данных  \n",
    "- Сравнение двух регрессий\n"
   ]
  },
  {
   "cell_type": "markdown",
   "id": "e53f2fb9",
   "metadata": {},
   "source": [
    "Сгенерируем нелинейно зависимые данные, подадим их на вход линейной и полиномиальной регрессиям, сравним метрики"
   ]
  },
  {
   "cell_type": "code",
   "execution_count": 2,
   "id": "6717dad6",
   "metadata": {},
   "outputs": [],
   "source": [
    "import numpy as np\n",
    "import pandas as pd\n",
    "import matplotlib.pyplot as plt\n",
    "\n",
    "from sklearn.preprocessing import PolynomialFeatures, StandardScaler\n",
    "from sklearn.linear_model import LinearRegression\n",
    "from sklearn.metrics import mean_squared_error, root_mean_squared_error, mean_absolute_error, mean_absolute_percentage_error\n",
    "from sklearn.model_selection import train_test_split"
   ]
  },
  {
   "cell_type": "code",
   "execution_count": 3,
   "id": "4e90f54e",
   "metadata": {},
   "outputs": [],
   "source": [
    "np.random.seed(42)\n",
    "n = 500\n",
    "\n",
    "X1 = np.linspace(-3, 3, n)                             \n",
    "X2 = np.random.uniform(-10, 10, n)                      \n",
    "X3 = np.random.normal(0, 1, n)                          \n",
    "X4 = np.random.binomial(1, 0.5, n)                      \n",
    "\n",
    "y = 3*X1**3 - 2*X1**2 + 5*X1 + 0.8*X2 + 2*X4 + np.random.normal(0, 3, n)\n",
    "\n",
    "df = pd.DataFrame({\n",
    "    'X1': X1,\n",
    "    'X2': X2,\n",
    "    'X3': X3,\n",
    "    'X4': X4,\n",
    "    'y': y\n",
    "})"
   ]
  },
  {
   "cell_type": "code",
   "execution_count": 4,
   "id": "1c784037",
   "metadata": {},
   "outputs": [],
   "source": [
    "X = df.drop(columns=['y'])\n",
    "y = df['y']"
   ]
  },
  {
   "cell_type": "code",
   "execution_count": 5,
   "id": "bad0bafb",
   "metadata": {},
   "outputs": [],
   "source": [
    "X_train, X_test, y_train, y_test = train_test_split(X, y, test_size=0.33, random_state=42)"
   ]
  },
  {
   "cell_type": "code",
   "execution_count": 6,
   "id": "91c8aa32",
   "metadata": {},
   "outputs": [],
   "source": [
    "# Стандартизируем данные\n",
    "scaler = StandardScaler().fit(X_train)\n",
    "\n",
    "X_train = scaler.transform(X_train)\n",
    "\n",
    "X_test = scaler.transform(X_test)"
   ]
  },
  {
   "cell_type": "code",
   "execution_count": 7,
   "id": "0420e0e8",
   "metadata": {},
   "outputs": [],
   "source": [
    "base_model = LinearRegression().fit(X_train, y_train)\n",
    "\n",
    "pred = base_model.predict(X_test)"
   ]
  },
  {
   "cell_type": "code",
   "execution_count": 8,
   "id": "8a7f66e3",
   "metadata": {},
   "outputs": [
    {
     "name": "stdout",
     "output_type": "stream",
     "text": [
      "mse:239.05|mae12.33|mape:185.82|rmse15.46\n"
     ]
    }
   ],
   "source": [
    "mse_base_model = mean_squared_error(y_test, pred)\n",
    "mae_base_model = mean_absolute_error(y_test, pred)\n",
    "mape_base_model = mean_absolute_percentage_error(y_test, pred) * 100\n",
    "rmse_base_model = root_mean_squared_error(y_test, pred)\n",
    "\n",
    "print(f'mse:{mse_base_model:.2f}|mae{mae_base_model:.2f}|mape:{mape_base_model:.2f}|rmse{rmse_base_model:.2f}')"
   ]
  },
  {
   "cell_type": "code",
   "execution_count": 9,
   "id": "ca891191",
   "metadata": {},
   "outputs": [],
   "source": [
    "poly = PolynomialFeatures(degree=3)\n",
    "X_train_poly = poly.fit_transform(X_train)\n",
    "X_test_poly = poly.transform(X_test)"
   ]
  },
  {
   "cell_type": "code",
   "execution_count": 10,
   "id": "efc6a776",
   "metadata": {},
   "outputs": [],
   "source": [
    "poly_model = LinearRegression().fit(X_train_poly, y_train)\n",
    "\n",
    "pred_poly = poly_model.predict(X_test_poly)"
   ]
  },
  {
   "cell_type": "code",
   "execution_count": 11,
   "id": "4148a189",
   "metadata": {},
   "outputs": [
    {
     "name": "stdout",
     "output_type": "stream",
     "text": [
      "mse:11.07|mae2.65|mape:80.53|rmse3.33\n"
     ]
    }
   ],
   "source": [
    "mse_poly_model = mean_squared_error(y_test, pred_poly)\n",
    "mae_poly_model = mean_absolute_error(y_test, pred_poly)\n",
    "mape_poly_model = mean_absolute_percentage_error(y_test, pred_poly) * 100\n",
    "rmse_poly_model = root_mean_squared_error(y_test, pred_poly)\n",
    "\n",
    "print(f'mse:{mse_poly_model:.2f}|mae{mae_poly_model:.2f}|mape:{mape_poly_model:.2f}|rmse{rmse_poly_model:.2f}')"
   ]
  },
  {
   "cell_type": "code",
   "execution_count": 12,
   "id": "bb47b470",
   "metadata": {},
   "outputs": [
    {
     "name": "stdout",
     "output_type": "stream",
     "text": [
      "\n",
      "| Метрика      | Линейная регрессия | Полиномиальная регрессия |\n",
      "|--------------|--------------------|---------------------------|\n",
      "| MSE          | 239.0493          | 11.0655               |\n",
      "| MAE          | 12.3345          | 2.6499               |\n",
      "| MAPE (%)     | 185.82          | 80.53               |\n",
      "| RMSE         | 15.4612          | 3.3265               |\n",
      "\n"
     ]
    }
   ],
   "source": [
    "print(f\"\"\"\n",
    "| Метрика      | Линейная регрессия | Полиномиальная регрессия |\n",
    "|--------------|--------------------|---------------------------|\n",
    "| MSE          | {mse_base_model:.4f}          | {mse_poly_model:.4f}               |\n",
    "| MAE          | {mae_base_model:.4f}          | {mae_poly_model:.4f}               |\n",
    "| MAPE (%)     | {mape_base_model:.2f}          | {mape_poly_model:.2f}               |\n",
    "| RMSE         | {rmse_base_model:.4f}          | {rmse_poly_model:.4f}               |\n",
    "\"\"\")\n"
   ]
  },
  {
   "cell_type": "markdown",
   "id": "b0e9e388",
   "metadata": {},
   "source": [
    "Как видим, наши метрики значительно улучшились — эффективность полиномиальной регрессии заметно выше по сравнению с обычной линейной регрессией."
   ]
  }
 ],
 "metadata": {
  "kernelspec": {
   "display_name": "Python 3",
   "language": "python",
   "name": "python3"
  },
  "language_info": {
   "codemirror_mode": {
    "name": "ipython",
    "version": 3
   },
   "file_extension": ".py",
   "mimetype": "text/x-python",
   "name": "python",
   "nbconvert_exporter": "python",
   "pygments_lexer": "ipython3",
   "version": "3.13.5"
  }
 },
 "nbformat": 4,
 "nbformat_minor": 5
}
